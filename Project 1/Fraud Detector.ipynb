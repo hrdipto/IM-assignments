{
 "cells": [
  {
   "cell_type": "markdown",
   "metadata": {},
   "source": [
    "# Load Data"
   ]
  },
  {
   "cell_type": "code",
   "execution_count": 1,
   "metadata": {
    "_kg_hide-input": true
   },
   "outputs": [],
   "source": [
    "BUILD95 = True\n",
    "BUILD96 = True\n",
    "\n",
    "import numpy as np, pandas as pd, os, gc\n",
    "from sklearn.model_selection import GroupKFold\n",
    "from sklearn.metrics import roc_auc_score\n",
    "import matplotlib.pyplot as plt\n",
    "import seaborn as sns\n",
    "\n",
    "# COLUMNS WITH STRINGS\n",
    "str_type = ['ProductCD', 'card4', 'card6', 'P_emaildomain', 'R_emaildomain','M1', 'M2', 'M3', 'M4','M5',\n",
    "            'M6', 'M7', 'M8', 'M9', 'id_12', 'id_15', 'id_16', 'id_23', 'id_27', 'id_28', 'id_29', 'id_30', \n",
    "            'id_31', 'id_33', 'id_34', 'id_35', 'id_36', 'id_37', 'id_38', 'DeviceType', 'DeviceInfo']\n",
    "str_type += ['id-12', 'id-15', 'id-16', 'id-23', 'id-27', 'id-28', 'id-29', 'id-30', \n",
    "            'id-31', 'id-33', 'id-34', 'id-35', 'id-36', 'id-37', 'id-38']\n",
    "\n",
    "# FIRST 53 COLUMNS\n",
    "cols = ['TransactionID', 'TransactionDT', 'TransactionAmt',\n",
    "       'ProductCD', 'card1', 'card2', 'card3', 'card4', 'card5', 'card6',\n",
    "       'addr1', 'addr2', 'dist1', 'dist2', 'P_emaildomain', 'R_emaildomain',\n",
    "       'C1', 'C2', 'C3', 'C4', 'C5', 'C6', 'C7', 'C8', 'C9', 'C10', 'C11',\n",
    "       'C12', 'C13', 'C14', 'D1', 'D2', 'D3', 'D4', 'D5', 'D6', 'D7', 'D8',\n",
    "       'D9', 'D10', 'D11', 'D12', 'D13', 'D14', 'D15', 'M1', 'M2', 'M3', 'M4',\n",
    "       'M5', 'M6', 'M7', 'M8', 'M9']\n",
    "\n",
    "# V COLUMNS TO LOAD DECIDED BY CORRELATION EDA\n",
    "# https://www.kaggle.com/cdeotte/eda-for-columns-v-and-id\n",
    "v =  [1, 3, 4, 6, 8, 11]\n",
    "v += [13, 14, 17, 20, 23, 26, 27, 30]\n",
    "v += [36, 37, 40, 41, 44, 47, 48]\n",
    "v += [54, 56, 59, 62, 65, 67, 68, 70]\n",
    "v += [76, 78, 80, 82, 86, 88, 89, 91]\n",
    "\n",
    "#v += [96, 98, 99, 104] #relates to groups, no NAN \n",
    "v += [107, 108, 111, 115, 117, 120, 121, 123] # maybe group, no NAN\n",
    "v += [124, 127, 129, 130, 136] # relates to groups, no NAN\n",
    "\n",
    "# LOTS OF NAN BELOW\n",
    "v += [138, 139, 142, 147, 156, 162] #b1\n",
    "v += [165, 160, 166] #b1\n",
    "v += [178, 176, 173, 182] #b2\n",
    "v += [187, 203, 205, 207, 215] #b2\n",
    "v += [169, 171, 175, 180, 185, 188, 198, 210, 209] #b2\n",
    "v += [218, 223, 224, 226, 228, 229, 235] #b3\n",
    "v += [240, 258, 257, 253, 252, 260, 261] #b3\n",
    "v += [264, 266, 267, 274, 277] #b3\n",
    "v += [220, 221, 234, 238, 250, 271] #b3\n",
    "\n",
    "v += [294, 284, 285, 286, 291, 297] # relates to grous, no NAN\n",
    "v += [303, 305, 307, 309, 310, 320] # relates to groups, no NAN\n",
    "v += [281, 283, 289, 296, 301, 314] # relates to groups, no NAN\n",
    "#v += [332, 325, 335, 338] # b4 lots NAN\n",
    "\n",
    "cols += ['V'+str(x) for x in v]\n",
    "dtypes = {}\n",
    "for c in cols+['id_0'+str(x) for x in range(1,10)]+['id_'+str(x) for x in range(10,34)]+\\\n",
    "    ['id-0'+str(x) for x in range(1,10)]+['id-'+str(x) for x in range(10,34)]:\n",
    "        dtypes[c] = 'float32'\n",
    "for c in str_type: dtypes[c] = 'category'"
   ]
  },
  {
   "cell_type": "code",
   "execution_count": 2,
   "metadata": {},
   "outputs": [
    {
     "name": "stdout",
     "output_type": "stream",
     "text": [
      "Train shape (590540, 213) test shape (506691, 213)\n",
      "CPU times: user 38.8 s, sys: 1.93 s, total: 40.7 s\n",
      "Wall time: 40.9 s\n"
     ]
    }
   ],
   "source": [
    "%%time\n",
    "# LOAD TRAIN\n",
    "X_train = pd.read_pickle('../input/ieee-fraud-detection/train_transaction.pkl',index_col='TransactionID', dtype=dtypes, usecols=cols+['isFraud'])\n",
    "train_id = pd.read_pickle('../input/ieee-fraud-detection/train_identity.pkl',index_col='TransactionID', dtype=dtypes)\n",
    "X_train = X_train.merge(train_id, how='left', left_index=True, right_index=True)\n",
    "# LOAD TEST\n",
    "X_test = pd.read_pickle('../input/ieee-fraud-detection/test_transaction.pkl',index_col='TransactionID', dtype=dtypes, usecols=cols)\n",
    "test_id = pd.read_pickle('../input/ieee-fraud-detection/test_identity.pkl',index_col='TransactionID', dtype=dtypes)\n",
    "fix = {o:n for o, n in zip(test_id.columns, train_id.columns)}\n",
    "test_id.rename(columns=fix, inplace=True)\n",
    "X_test = X_test.merge(test_id, how='left', left_index=True, right_index=True)\n",
    "# TARGET\n",
    "y_train = X_train['isFraud'].copy()\n",
    "del train_id, test_id, X_train['isFraud']; x = gc.collect()\n",
    "# PRINT STATUS\n",
    "print('Train shape',X_train.shape,'test shape',X_test.shape)"
   ]
  },
  {
   "cell_type": "markdown",
   "metadata": {},
   "source": [
    "# Feature Engineering\n"
   ]
  },
  {
   "cell_type": "code",
   "execution_count": 9,
   "metadata": {},
   "outputs": [],
   "source": [
    "cols = list( X_train.columns )\n",
    "cols.remove('TransactionDT')\n",
    "for c in ['D6','D7','D8','D9','D12','D13','D14']:\n",
    "    cols.remove(c)\n",
    "    \n",
    "# FAILED TIME CONSISTENCY TEST\n",
    "for c in ['C3','M5','id_08','id_33']:\n",
    "    cols.remove(c)\n",
    "for c in ['card4','id_07','id_14','id_21','id_30','id_32','id_34']:\n",
    "    cols.remove(c)\n",
    "for c in ['id_'+str(x) for x in range(22,28)]:\n",
    "    cols.remove(c)"
   ]
  },
  {
   "cell_type": "code",
   "execution_count": 10,
   "metadata": {},
   "outputs": [
    {
     "name": "stdout",
     "output_type": "stream",
     "text": [
      "NOW USING THE FOLLOWING 216 FEATURES.\n"
     ]
    },
    {
     "data": {
      "text/plain": [
       "array(['TransactionAmt', 'ProductCD', 'card1', 'card2', 'card3', 'card5',\n",
       "       'card6', 'addr1', 'addr2', 'dist1', 'dist2', 'P_emaildomain',\n",
       "       'R_emaildomain', 'C1', 'C2', 'C4', 'C5', 'C6', 'C7', 'C8', 'C9',\n",
       "       'C10', 'C11', 'C12', 'C13', 'C14', 'D1', 'D2', 'D3', 'D4', 'D5',\n",
       "       'D10', 'D11', 'D15', 'M1', 'M2', 'M3', 'M4', 'M6', 'M7', 'M8',\n",
       "       'M9', 'V1', 'V3', 'V4', 'V6', 'V8', 'V11', 'V13', 'V14', 'V17',\n",
       "       'V20', 'V23', 'V26', 'V27', 'V30', 'V36', 'V37', 'V40', 'V41',\n",
       "       'V44', 'V47', 'V48', 'V54', 'V56', 'V59', 'V62', 'V65', 'V67',\n",
       "       'V68', 'V70', 'V76', 'V78', 'V80', 'V82', 'V86', 'V88', 'V89',\n",
       "       'V91', 'V107', 'V108', 'V111', 'V115', 'V117', 'V120', 'V121',\n",
       "       'V123', 'V124', 'V127', 'V129', 'V130', 'V136', 'V138', 'V139',\n",
       "       'V142', 'V147', 'V156', 'V160', 'V162', 'V165', 'V166', 'V169',\n",
       "       'V171', 'V173', 'V175', 'V176', 'V178', 'V180', 'V182', 'V185',\n",
       "       'V187', 'V188', 'V198', 'V203', 'V205', 'V207', 'V209', 'V210',\n",
       "       'V215', 'V218', 'V220', 'V221', 'V223', 'V224', 'V226', 'V228',\n",
       "       'V229', 'V234', 'V235', 'V238', 'V240', 'V250', 'V252', 'V253',\n",
       "       'V257', 'V258', 'V260', 'V261', 'V264', 'V266', 'V267', 'V271',\n",
       "       'V274', 'V277', 'V281', 'V283', 'V284', 'V285', 'V286', 'V289',\n",
       "       'V291', 'V294', 'V296', 'V297', 'V301', 'V303', 'V305', 'V307',\n",
       "       'V309', 'V310', 'V314', 'V320', 'id_01', 'id_02', 'id_03', 'id_04',\n",
       "       'id_05', 'id_06', 'id_09', 'id_10', 'id_11', 'id_12', 'id_13',\n",
       "       'id_15', 'id_16', 'id_17', 'id_18', 'id_19', 'id_20', 'id_28',\n",
       "       'id_29', 'id_31', 'id_35', 'id_36', 'id_37', 'id_38', 'DeviceType',\n",
       "       'DeviceInfo', 'cents', 'addr1_FE', 'card1_FE', 'card2_FE',\n",
       "       'card3_FE', 'P_emaildomain_FE', 'card1_addr1',\n",
       "       'card1_addr1_P_emaildomain', 'card1_addr1_FE',\n",
       "       'card1_addr1_P_emaildomain_FE', 'TransactionAmt_card1_mean',\n",
       "       'TransactionAmt_card1_std', 'TransactionAmt_card1_addr1_mean',\n",
       "       'TransactionAmt_card1_addr1_std',\n",
       "       'TransactionAmt_card1_addr1_P_emaildomain_mean',\n",
       "       'TransactionAmt_card1_addr1_P_emaildomain_std', 'D9_card1_mean',\n",
       "       'D9_card1_std', 'D9_card1_addr1_mean', 'D9_card1_addr1_std',\n",
       "       'D9_card1_addr1_P_emaildomain_mean',\n",
       "       'D9_card1_addr1_P_emaildomain_std', 'D11_card1_mean',\n",
       "       'D11_card1_std', 'D11_card1_addr1_mean', 'D11_card1_addr1_std',\n",
       "       'D11_card1_addr1_P_emaildomain_mean',\n",
       "       'D11_card1_addr1_P_emaildomain_std'], dtype='<U45')"
      ]
     },
     "execution_count": 10,
     "metadata": {},
     "output_type": "execute_result"
    }
   ],
   "source": [
    "print('NOW USING THE FOLLOWING',len(cols),'FEATURES.')\n",
    "np.array(cols)"
   ]
  },
  {
   "cell_type": "code",
   "execution_count": 14,
   "metadata": {},
   "outputs": [],
   "source": [
    "import datetime\n",
    "START_DATE = datetime.datetime.strptime('2017-11-30', '%Y-%m-%d')\n",
    "X_train['DT_M'] = X_train['TransactionDT'].apply(lambda x: (START_DATE + datetime.timedelta(seconds = x)))\n",
    "X_train['DT_M'] = (X_train['DT_M'].dt.year-2017)*12 + X_train['DT_M'].dt.month \n",
    "\n",
    "X_test['DT_M'] = X_test['TransactionDT'].apply(lambda x: (START_DATE + datetime.timedelta(seconds = x)))\n",
    "X_test['DT_M'] = (X_test['DT_M'].dt.year-2017)*12 + X_test['DT_M'].dt.month "
   ]
  },
  {
   "cell_type": "markdown",
   "metadata": {},
   "source": [
    "# The Magic Feature - UID\n",
    "We will now create and use the MAGIC FEATURES. First we create a UID which will help our model find clients (credit cards). This UID isn't perfect. Many UID values contain 2 or more clients inside. However our model will detect this and by adding more splits with its trees, it will split these UIDs and find the single clients (credit cards)."
   ]
  },
  {
   "cell_type": "code",
   "execution_count": 18,
   "metadata": {},
   "outputs": [],
   "source": [
    "X_train['day'] = X_train.TransactionDT / (24*60*60)\n",
    "X_train['uid'] = X_train.card1_addr1.astype(str)+'_'+np.floor(X_train.day-X_train.D1).astype(str)\n",
    "\n",
    "X_test['day'] = X_test.TransactionDT / (24*60*60)\n",
    "X_test['uid'] = X_test.card1_addr1.astype(str)+'_'+np.floor(X_test.day-X_test.D1).astype(str)"
   ]
  },
  {
   "cell_type": "code",
   "execution_count": 20,
   "metadata": {
    "_kg_hide-input": true
   },
   "outputs": [],
   "source": [
    "cols = list( X_train.columns )\n",
    "cols.remove('TransactionDT')\n",
    "for c in ['D6','D7','D8','D9','D12','D13','D14']:\n",
    "    cols.remove(c)\n",
    "for c in ['oof','DT_M','day','uid']:\n",
    "    cols.remove(c)\n",
    "    \n",
    "# FAILED TIME CONSISTENCY TEST\n",
    "for c in ['C3','M5','id_08','id_33']:\n",
    "    cols.remove(c)\n",
    "for c in ['card4','id_07','id_14','id_21','id_30','id_32','id_34']:\n",
    "    cols.remove(c)\n",
    "for c in ['id_'+str(x) for x in range(22,28)]:\n",
    "    cols.remove(c)"
   ]
  },
  {
   "cell_type": "code",
   "execution_count": 21,
   "metadata": {},
   "outputs": [
    {
     "name": "stdout",
     "output_type": "stream",
     "text": [
      "NOW USING THE FOLLOWING 263 FEATURES.\n"
     ]
    },
    {
     "data": {
      "text/plain": [
       "array(['TransactionAmt', 'ProductCD', 'card1', 'card2', 'card3', 'card5',\n",
       "       'card6', 'addr1', 'addr2', 'dist1', 'dist2', 'P_emaildomain',\n",
       "       'R_emaildomain', 'C1', 'C2', 'C4', 'C5', 'C6', 'C7', 'C8', 'C9',\n",
       "       'C10', 'C11', 'C12', 'C13', 'C14', 'D1', 'D2', 'D3', 'D4', 'D5',\n",
       "       'D10', 'D11', 'D15', 'M1', 'M2', 'M3', 'M4', 'M6', 'M7', 'M8',\n",
       "       'M9', 'V1', 'V3', 'V4', 'V6', 'V8', 'V11', 'V13', 'V14', 'V17',\n",
       "       'V20', 'V23', 'V26', 'V27', 'V30', 'V36', 'V37', 'V40', 'V41',\n",
       "       'V44', 'V47', 'V48', 'V54', 'V56', 'V59', 'V62', 'V65', 'V67',\n",
       "       'V68', 'V70', 'V76', 'V78', 'V80', 'V82', 'V86', 'V88', 'V89',\n",
       "       'V91', 'V107', 'V108', 'V111', 'V115', 'V117', 'V120', 'V121',\n",
       "       'V123', 'V124', 'V127', 'V129', 'V130', 'V136', 'V138', 'V139',\n",
       "       'V142', 'V147', 'V156', 'V160', 'V162', 'V165', 'V166', 'V169',\n",
       "       'V171', 'V173', 'V175', 'V176', 'V178', 'V180', 'V182', 'V185',\n",
       "       'V187', 'V188', 'V198', 'V203', 'V205', 'V207', 'V209', 'V210',\n",
       "       'V215', 'V218', 'V220', 'V221', 'V223', 'V224', 'V226', 'V228',\n",
       "       'V229', 'V234', 'V235', 'V238', 'V240', 'V250', 'V252', 'V253',\n",
       "       'V257', 'V258', 'V260', 'V261', 'V264', 'V266', 'V267', 'V271',\n",
       "       'V274', 'V277', 'V281', 'V283', 'V284', 'V285', 'V286', 'V289',\n",
       "       'V291', 'V294', 'V296', 'V297', 'V301', 'V303', 'V305', 'V307',\n",
       "       'V309', 'V310', 'V314', 'V320', 'id_01', 'id_02', 'id_03', 'id_04',\n",
       "       'id_05', 'id_06', 'id_09', 'id_10', 'id_11', 'id_12', 'id_13',\n",
       "       'id_15', 'id_16', 'id_17', 'id_18', 'id_19', 'id_20', 'id_28',\n",
       "       'id_29', 'id_31', 'id_35', 'id_36', 'id_37', 'id_38', 'DeviceType',\n",
       "       'DeviceInfo', 'cents', 'addr1_FE', 'card1_FE', 'card2_FE',\n",
       "       'card3_FE', 'P_emaildomain_FE', 'card1_addr1',\n",
       "       'card1_addr1_P_emaildomain', 'card1_addr1_FE',\n",
       "       'card1_addr1_P_emaildomain_FE', 'TransactionAmt_card1_mean',\n",
       "       'TransactionAmt_card1_std', 'TransactionAmt_card1_addr1_mean',\n",
       "       'TransactionAmt_card1_addr1_std',\n",
       "       'TransactionAmt_card1_addr1_P_emaildomain_mean',\n",
       "       'TransactionAmt_card1_addr1_P_emaildomain_std', 'D9_card1_mean',\n",
       "       'D9_card1_std', 'D9_card1_addr1_mean', 'D9_card1_addr1_std',\n",
       "       'D9_card1_addr1_P_emaildomain_mean',\n",
       "       'D9_card1_addr1_P_emaildomain_std', 'D11_card1_mean',\n",
       "       'D11_card1_std', 'D11_card1_addr1_mean', 'D11_card1_addr1_std',\n",
       "       'D11_card1_addr1_P_emaildomain_mean',\n",
       "       'D11_card1_addr1_P_emaildomain_std', 'uid_FE',\n",
       "       'TransactionAmt_uid_mean', 'TransactionAmt_uid_std', 'D4_uid_mean',\n",
       "       'D4_uid_std', 'D9_uid_mean', 'D9_uid_std', 'D10_uid_mean',\n",
       "       'D10_uid_std', 'D15_uid_mean', 'D15_uid_std', 'C1_uid_mean',\n",
       "       'C2_uid_mean', 'C4_uid_mean', 'C5_uid_mean', 'C6_uid_mean',\n",
       "       'C7_uid_mean', 'C8_uid_mean', 'C9_uid_mean', 'C10_uid_mean',\n",
       "       'C11_uid_mean', 'C12_uid_mean', 'C13_uid_mean', 'C14_uid_mean',\n",
       "       'M1_uid_mean', 'M2_uid_mean', 'M3_uid_mean', 'M4_uid_mean',\n",
       "       'M5_uid_mean', 'M6_uid_mean', 'M7_uid_mean', 'M8_uid_mean',\n",
       "       'M9_uid_mean', 'uid_P_emaildomain_ct', 'uid_dist1_ct',\n",
       "       'uid_DT_M_ct', 'uid_id_02_ct', 'uid_cents_ct', 'C14_uid_std',\n",
       "       'uid_C13_ct', 'uid_V314_ct', 'uid_V127_ct', 'uid_V136_ct',\n",
       "       'uid_V309_ct', 'uid_V307_ct', 'uid_V320_ct', 'outsider15'],\n",
       "      dtype='<U45')"
      ]
     },
     "execution_count": 21,
     "metadata": {},
     "output_type": "execute_result"
    }
   ],
   "source": [
    "print('NOW USING THE FOLLOWING',len(cols),'FEATURES.')\n",
    "np.array(cols)"
   ]
  },
  {
   "cell_type": "markdown",
   "metadata": {},
   "source": [
    "# Local Validation\n",
    "We will now perform local validation with the new magic features included. Chris' local validation now achieves AUC = 0.9472 and Konstantin's local validation achieves AUC = 0.9343. Note that without the magic features we achieved AUC = 0.9363 and AUC = 0.9241. We gained AUC 0.01 in both validations therefore our LB should increase from 0.95 to 0.96. Konstantin's LGBM with magic scores Konstantin local validation AUC = 0.9377 [here][1]\n",
    "\n",
    "[1]: https://www.kaggle.com/kyakovlev/ieee-basic-fe-part-1"
   ]
  },
  {
   "cell_type": "code",
   "execution_count": 22,
   "metadata": {},
   "outputs": [],
   "source": [
    "# CHRIS - TRAIN 75% PREDICT 25%\n",
    "idxT = X_train.index[:3*len(X_train)//4]\n",
    "idxV = X_train.index[3*len(X_train)//4:]\n",
    "\n",
    "# KONSTANTIN - TRAIN 4 SKIP 1 PREDICT 1 MONTH\n",
    "#idxT = X_train.index[:417559]\n",
    "#idxV = X_train.index[-89326:]"
   ]
  },
  {
   "cell_type": "code",
   "execution_count": 15,
   "metadata": {},
   "outputs": [
    {
     "name": "stdout",
     "output_type": "stream",
     "text": [
      "Fold 0 withholding month 12\n",
      " rows of train = 453219 rows of holdout = 137321\n",
      "[0]\tvalidation_0-auc:0.757194\n",
      "Will train until validation_0-auc hasn't improved in 200 rounds.\n",
      "[100]\tvalidation_0-auc:0.871341\n",
      "[200]\tvalidation_0-auc:0.892256\n",
      "[300]\tvalidation_0-auc:0.903352\n",
      "[400]\tvalidation_0-auc:0.907912\n",
      "[500]\tvalidation_0-auc:0.908055\n",
      "[600]\tvalidation_0-auc:0.907959\n",
      "Stopping. Best iteration:\n",
      "[417]\tvalidation_0-auc:0.908466\n",
      "\n",
      "Fold 1 withholding month 15\n",
      " rows of train = 488908 rows of holdout = 101632\n",
      "[0]\tvalidation_0-auc:0.832247\n",
      "Will train until validation_0-auc hasn't improved in 200 rounds.\n",
      "[100]\tvalidation_0-auc:0.906459\n",
      "[200]\tvalidation_0-auc:0.929275\n",
      "[300]\tvalidation_0-auc:0.940543\n",
      "[400]\tvalidation_0-auc:0.944592\n",
      "[500]\tvalidation_0-auc:0.946015\n",
      "[600]\tvalidation_0-auc:0.94661\n",
      "[700]\tvalidation_0-auc:0.946441\n",
      "[800]\tvalidation_0-auc:0.946432\n",
      "Stopping. Best iteration:\n",
      "[601]\tvalidation_0-auc:0.946614\n",
      "\n",
      "Fold 2 withholding month 13\n",
      " rows of train = 497955 rows of holdout = 92585\n",
      "[0]\tvalidation_0-auc:0.809112\n",
      "Will train until validation_0-auc hasn't improved in 200 rounds.\n",
      "[100]\tvalidation_0-auc:0.904115\n",
      "[200]\tvalidation_0-auc:0.923923\n",
      "[300]\tvalidation_0-auc:0.936195\n",
      "[400]\tvalidation_0-auc:0.940972\n",
      "[500]\tvalidation_0-auc:0.942581\n",
      "[600]\tvalidation_0-auc:0.942658\n",
      "[700]\tvalidation_0-auc:0.942671\n",
      "[800]\tvalidation_0-auc:0.94245\n",
      "Stopping. Best iteration:\n",
      "[647]\tvalidation_0-auc:0.943013\n",
      "\n",
      "Fold 3 withholding month 17\n",
      " rows of train = 501214 rows of holdout = 89326\n",
      "[0]\tvalidation_0-auc:0.805903\n",
      "Will train until validation_0-auc hasn't improved in 200 rounds.\n",
      "[100]\tvalidation_0-auc:0.900972\n",
      "[200]\tvalidation_0-auc:0.925726\n",
      "[300]\tvalidation_0-auc:0.936672\n",
      "[400]\tvalidation_0-auc:0.941826\n",
      "[500]\tvalidation_0-auc:0.943173\n",
      "[600]\tvalidation_0-auc:0.943246\n",
      "[700]\tvalidation_0-auc:0.942995\n",
      "Stopping. Best iteration:\n",
      "[535]\tvalidation_0-auc:0.943457\n",
      "\n",
      "Fold 4 withholding month 14\n",
      " rows of train = 504519 rows of holdout = 86021\n",
      "[0]\tvalidation_0-auc:0.845517\n",
      "Will train until validation_0-auc hasn't improved in 200 rounds.\n",
      "[100]\tvalidation_0-auc:0.920878\n",
      "[200]\tvalidation_0-auc:0.940643\n",
      "[300]\tvalidation_0-auc:0.949253\n",
      "[400]\tvalidation_0-auc:0.951569\n",
      "[500]\tvalidation_0-auc:0.951817\n",
      "[600]\tvalidation_0-auc:0.951515\n",
      "Stopping. Best iteration:\n",
      "[441]\tvalidation_0-auc:0.951908\n",
      "\n",
      "Fold 5 withholding month 16\n",
      " rows of train = 506885 rows of holdout = 83655\n",
      "[0]\tvalidation_0-auc:0.804213\n",
      "Will train until validation_0-auc hasn't improved in 200 rounds.\n",
      "[100]\tvalidation_0-auc:0.909077\n",
      "[200]\tvalidation_0-auc:0.936265\n",
      "[300]\tvalidation_0-auc:0.949284\n",
      "[400]\tvalidation_0-auc:0.954733\n",
      "[500]\tvalidation_0-auc:0.956509\n",
      "[600]\tvalidation_0-auc:0.957115\n",
      "[700]\tvalidation_0-auc:0.957822\n",
      "[800]\tvalidation_0-auc:0.957817\n",
      "[900]\tvalidation_0-auc:0.957933\n",
      "[1000]\tvalidation_0-auc:0.957973\n",
      "[1100]\tvalidation_0-auc:0.957972\n",
      "Stopping. Best iteration:\n",
      "[962]\tvalidation_0-auc:0.958189\n",
      "\n",
      "####################\n",
      "XGB95 OOF CV= 0.9398187466957928\n"
     ]
    }
   ],
   "source": [
    "\n",
    "oof = np.zeros(len(X_train))\n",
    "preds = np.zeros(len(X_test))\n",
    "\n",
    "skf = GroupKFold(n_splits=6)\n",
    "for i, (idxT, idxV) in enumerate( skf.split(X_train, y_train, groups=X_train['DT_M']) ):\n",
    "    month = X_train.iloc[idxV]['DT_M'].iloc[0]\n",
    "    print('Fold',i,'withholding month',month)\n",
    "    print(' rows of train =',len(idxT),'rows of holdout =',len(idxV))\n",
    "    clf = xgb.XGBClassifier(\n",
    "        n_estimators=5000,\n",
    "        max_depth=12,\n",
    "        learning_rate=0.02,\n",
    "        subsample=0.8,\n",
    "        colsample_bytree=0.4,\n",
    "        missing=-1,\n",
    "        eval_metric='auc',\n",
    "        # USE CPU\n",
    "        #nthread=4,\n",
    "        #tree_method='hist'\n",
    "        # USE GPU\n",
    "        tree_method='gpu_hist' \n",
    "    )        \n",
    "    h = clf.fit(X_train[cols].iloc[idxT], y_train.iloc[idxT], \n",
    "                eval_set=[(X_train[cols].iloc[idxV],y_train.iloc[idxV])],\n",
    "                verbose=100, early_stopping_rounds=200)\n",
    "    \n",
    "    oof[idxV] += clf.predict_proba(X_train[cols].iloc[idxV])[:,1]\n",
    "    preds += clf.predict_proba(X_test[cols])[:,1]/skf.n_splits\n",
    "    del h, clf\n",
    "    x=gc.collect()\n",
    "    print('#'*20)\n",
    "    print ('XGB95 OOF CV=',roc_auc_score(y_train,oof))"
   ]
  },
  {
   "cell_type": "markdown",
   "metadata": {},
   "source": [
    "# Predict test.csv"
   ]
  },
  {
   "cell_type": "code",
   "execution_count": 27,
   "metadata": {},
   "outputs": [
    {
     "data": {
      "image/png": "[encoded data removed]",
      "text/plain": [
       "<Figure size 432x288 with 1 Axes>"
      ]
     },
     "metadata": {
      "needs_background": "light"
     },
     "output_type": "display_data"
    }
   ],
   "source": [
    "if BUILD96:\n",
    "    sample_submission = pd.read_csv('../input/ieee-fraud-detection/sample_submission.csv')\n",
    "    sample_submission.isFraud = preds\n",
    "    sample_submission.to_csv('submissions.csv',index=False)\n",
    "\n",
    "    plt.hist(sample_submission.isFraud,bins=100)\n",
    "    plt.ylim((0,5000))\n",
    "    plt.title('XGB95 Submission')\n",
    "    plt.show()"
   ]
  }
 ],
 "metadata": {
  "kernelspec": {
   "display_name": "Python 3",
   "language": "python",
   "name": "python3"
  },
  "language_info": {
   "codemirror_mode": {
    "name": "ipython",
    "version": 3
   },
   "file_extension": ".py",
   "mimetype": "text/x-python",
   "name": "python",
   "nbconvert_exporter": "python",
   "pygments_lexer": "ipython3",
   "version": "3.7.7"
  }
 },
 "nbformat": 4,
 "nbformat_minor": 1
}
