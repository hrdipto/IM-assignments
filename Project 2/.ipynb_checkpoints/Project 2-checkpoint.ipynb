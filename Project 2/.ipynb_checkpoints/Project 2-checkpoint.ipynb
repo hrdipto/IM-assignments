{
 "cells": [
  {
   "cell_type": "markdown",
   "metadata": {},
   "source": [
    "# Pretrained BERT models"
   ]
  },
  {
   "cell_type": "code",
   "execution_count": null,
   "metadata": {
    "execution": {
     "iopub.execute_input": "2021-06-26T15:58:21.898704Z",
     "iopub.status.busy": "2021-06-26T15:58:21.898361Z",
     "iopub.status.idle": "2021-06-26T15:58:23.502459Z",
     "shell.execute_reply": "2021-06-26T15:58:23.501557Z",
     "shell.execute_reply.started": "2021-06-26T15:58:21.898627Z"
    }
   },
   "outputs": [],
   "source": [
    "import sys\n",
    "package_dir = \"../input/ppbert/pytorch-pretrained-bert/pytorch-pretrained-BERT\"\n",
    "sys.path.append(package_dir)\n",
    "from __future__ import absolute_import\n",
    "from __future__ import division\n",
    "from __future__ import print_function\n",
    "import torch.utils.data\n",
    "import numpy as np\n",
    "import pandas as pd\n",
    "from tqdm import tqdm\n",
    "import os\n",
    "import warnings\n",
    "from pytorch_pretrained_bert import BertTokenizer, BertForSequenceClassification, BertAdam\n",
    "from pytorch_pretrained_bert import BertConfig\n",
    "import gc\n",
    "\n",
    "warnings.filterwarnings(action='once')\n",
    "device = torch.device('cuda')\n",
    "\n",
    "def convert_lines(example, max_seq_length,tokenizer):\n",
    "    max_seq_length -=2\n",
    "    all_tokens = []\n",
    "    longer = 0\n",
    "    for text in tqdm(example):\n",
    "        tokens_a = tokenizer.tokenize(text)\n",
    "        if len(tokens_a)>max_seq_length:\n",
    "            tokens_a = tokens_a[:max_seq_length]\n",
    "            longer += 1\n",
    "        one_token = tokenizer.convert_tokens_to_ids([\"[CLS]\"]+tokens_a+[\"[SEP]\"])+[0] * (max_seq_length - len(tokens_a))\n",
    "        all_tokens.append(one_token)\n",
    "    return np.array(all_tokens)\n",
    "\n",
    "MAX_SEQUENCE_LENGTH = 220\n",
    "SEED = 1234\n",
    "BATCH_SIZE = 32\n",
    "BERT_MODEL_PATH = '../input/bert-pretrained-models/uncased_l-12_h-768_a-12/uncased_L-12_H-768_A-12/'\n",
    "LARGE_BERT_MODEL_PATH = '../input/bert-pretrained-models/uncased_l-24_h-1024_a-16/uncased_L-24_H-1024_A-16/'\n",
    "np.random.seed(SEED)\n",
    "torch.manual_seed(SEED)\n",
    "torch.cuda.manual_seed(SEED)\n",
    "torch.backends.cudnn.deterministic = True\n"
   ]
  },
  {
   "cell_type": "code",
   "execution_count": null,
   "metadata": {
    "execution": {
     "iopub.execute_input": "2021-06-26T15:58:23.504754Z",
     "iopub.status.busy": "2021-06-26T15:58:23.504352Z",
     "iopub.status.idle": "2021-06-26T15:58:46.604919Z",
     "shell.execute_reply": "2021-06-26T15:58:46.604084Z",
     "shell.execute_reply.started": "2021-06-26T15:58:23.504694Z"
    }
   },
   "outputs": [],
   "source": [
    "# Pretrained BERT models - Google's pretrained BERT model\n",
    "BERT_SMALL_PATH = '../input/bert-pretrained-models/uncased_l-12_h-768_a-12/uncased_L-12_H-768_A-12/'\n",
    "BERT_LARGE_PATH = '../input/bert-pretrained-models/uncased_l-24_h-1024_a-16/uncased_L-24_H-1024_A-16/'\n",
    "\n",
    "# JIGSAW fine-tuned BERT models\n",
    "JIGSAW_BERT_SMALL_MODEL_PATH = '../input/bert-inference/bert/bert_pytorch.bin'\n",
    "JIGSAW_BERT_LARGE_MODEL_PATH = '../input/jigsawpretrainedbertmodels/jigsaw-bert-large-uncased-len-220-fp16/epoch-1/pytorch_model.bin'\n",
    "JIGSAW_BERT_SMALL_JSON_PATH = '../input/bert-inference/bert/bert_config.json'\n",
    "JIGSAW_BERT_LARGE_JSON_PATH = '../input/jigsawpretrainedbertmodels/jigsaw-bert-large-uncased-len-220-fp16/epoch-1/config.json'\n",
    "NUM_BERT_MODELS = 2\n",
    "INFER_BATCH_SIZE = 64\n",
    "\n",
    "train_df = pd.read_csv('../input/jigsaw-unintended-bias-in-toxicity-classification/train.csv')\n",
    "test_df = pd.read_csv('../input/jigsaw-unintended-bias-in-toxicity-classification/test.csv')\n",
    "bert_df = pd.read_csv('../input/bert-data/bert.csv')\n",
    "\n",
    "test_preds = np.zeros((test_df.shape[0],NUM_BERT_MODELS))\n",
    "np.random.seed(SEED)\n",
    "torch.manual_seed(SEED)\n",
    "torch.cuda.manual_seed(SEED)\n",
    "torch.backends.cudnn.deterministic = True\n",
    "\n",
    "\n",
    "\n",
    "print(\"Predicting BERT large model......\")"
   ]
  },
  {
   "cell_type": "code",
   "execution_count": null,
   "metadata": {
    "execution": {
     "iopub.execute_input": "2021-06-26T15:58:46.608396Z",
     "iopub.status.busy": "2021-06-26T15:58:46.607787Z",
     "iopub.status.idle": "2021-06-26T15:58:46.618107Z",
     "shell.execute_reply": "2021-06-26T15:58:46.617054Z",
     "shell.execute_reply.started": "2021-06-26T15:58:46.60833Z"
    }
   },
   "outputs": [],
   "source": [
    "\n",
    "\n",
    "\n",
    "# # Prepare data\n",
    "# bert_config = BertConfig(JIGSAW_BERT_LARGE_JSON_PATH)\n",
    "# tokenizer = BertTokenizer.from_pretrained(BERT_LARGE_PATH, cache_dir=None,do_lower_case=True)\n",
    "# X_test = convert_lines(test_df[\"comment_text\"].fillna(\"DUMMY_VALUE\"), MAX_SEQUENCE_LENGTH, tokenizer)\n",
    "# test = torch.utils.data.TensorDataset(torch.tensor(X_test, dtype=torch.long))      \n",
    "\n",
    "# # Load fine-tuned BERT model\n",
    "# gc.collect()\n",
    "# model = BertForSequenceClassification(bert_config, num_labels=1)\n",
    "# model.load_state_dict(torch.load(JIGSAW_BERT_LARGE_MODEL_PATH))\n",
    "# model.to(device)\n",
    "# for param in model.parameters():\n",
    "#     param.requires_grad = False\n",
    "# model.eval()\n",
    "\n",
    "# # Predicting\n",
    "# model_preds = np.zeros((len(X_test)))\n",
    "# test_loader = torch.utils.data.DataLoader(test, batch_size=INFER_BATCH_SIZE, shuffle=False)\n",
    "# tk0 = tqdm(test_loader)\n",
    "# for i, (x_batch,) in enumerate(tk0):\n",
    "#         pred = model(x_batch.to(device), attention_mask=(x_batch > 0).to(device), labels=None)\n",
    "#         model_preds[i * INFER_BATCH_SIZE:(i + 1) * INFER_BATCH_SIZE] = pred[:, 0].detach().cpu().squeeze().numpy()\n",
    "\n",
    "# test_preds[:,0] = torch.sigmoid(torch.tensor(model_preds)).numpy().ravel()\n",
    "# del model\n",
    "# gc.collect()\n",
    "\n",
    "# print(\"Predicting BERT small model......\")\n",
    "# bert_config = BertConfig(JIGSAW_BERT_SMALL_JSON_PATH)\n",
    "# tokenizer = BertTokenizer.from_pretrained(BERT_SMALL_PATH, cache_dir=None,do_lower_case=True)\n",
    "# X_test = convert_lines(test_df[\"comment_text\"].fillna(\"DUMMY_VALUE\"), MAX_SEQUENCE_LENGTH, tokenizer)\n",
    "# test = torch.utils.data.TensorDataset(torch.tensor(X_test, dtype=torch.long))      \n",
    "\n",
    "# # # # Load fine-tuned BERT model\n",
    "# model = BertForSequenceClassification(bert_config, num_labels=1)\n",
    "# model.load_state_dict(torch.load(JIGSAW_BERT_SMALL_MODEL_PATH))\n",
    "# model.to(device)\n",
    "# for param in model.parameters():\n",
    "#     param.requires_grad = False\n",
    "# model.eval()\n",
    "\n",
    "# # Predicting\n",
    "# model_preds = np.zeros((len(X_test)))\n",
    "# test_loader = torch.utils.data.DataLoader(test, batch_size=INFER_BATCH_SIZE, shuffle=False)\n",
    "# tk0 = tqdm(test_loader)\n",
    "# for i, (x_batch,) in enumerate(tk0):\n",
    "#         pred = model(x_batch.to(device), attention_mask=(x_batch > 0).to(device), labels=None)\n",
    "#         model_preds[i * INFER_BATCH_SIZE:(i + 1) * INFER_BATCH_SIZE] = pred[:, 0].detach().cpu().squeeze().numpy()\n",
    "\n",
    "# test_preds[:,1] = torch.sigmoid(torch.tensor(model_preds)).numpy().ravel()\n",
    "\n",
    "# del model\n",
    "# gc.collect()\n",
    "\n",
    "# # Sub-model prediction\n",
    "# bert_submission = pd.DataFrame.from_dict({\n",
    "# 'id': test_df['id'],\n",
    "# 'prediction': test_preds.mean(axis=1)})\n",
    "# bert_submission.to_csv('bert_submission.csv', index=False)\n"
   ]
  },
  {
   "cell_type": "markdown",
   "metadata": {},
   "source": [
    "\n",
    "# Preparations\n",
    "\n",
    "## Datasets\n",
    "You will need to add the following Kaggle dataset for pickled pretrained embeddings\n",
    "\n",
    "https://www.kaggle.com/chriscc/pickled-word-embedding\n",
    "\n",
    "## Import packages"
   ]
  },
  {
   "cell_type": "code",
   "execution_count": null,
   "metadata": {
    "_cell_guid": "b1076dfc-b9ad-4769-8c92-a6c4dae69d19",
    "_uuid": "8f2839f25d086af736a60e9eeb907d3b93b6e0e5",
    "execution": {
     "iopub.execute_input": "2021-06-26T15:58:46.621096Z",
     "iopub.status.busy": "2021-06-26T15:58:46.620345Z",
     "iopub.status.idle": "2021-06-26T15:58:47.929232Z",
     "shell.execute_reply": "2021-06-26T15:58:47.928374Z",
     "shell.execute_reply.started": "2021-06-26T15:58:46.620809Z"
    }
   },
   "outputs": [],
   "source": [
    "# This Python 3 environment comes with many helpful analytics libraries installed\n",
    "# It is defined by the kaggle/python docker image: https://github.com/kaggle/docker-python\n",
    "# For example, here's several helpful packages to load in \n",
    "\n",
    "import numpy as np # linear algebra\n",
    "import pandas as pd # data processing, CSV file I/O (e.g. pd.read_csv)\n",
    "import gc\n",
    "import re\n",
    "# Input data files are available in the \"../input/\" directory.\n",
    "# For example, running this (by clicking run or pressing Shift+Enter) will list the files in the input directory\n",
    "\n",
    "import os\n",
    "print(os.listdir(\"../input\"))\n",
    "\n",
    "from keras.preprocessing import text, sequence\n",
    "from keras import backend as K\n",
    "from keras.models import Model\n",
    "from keras.layers import Input, Dense, Embedding, SpatialDropout1D, add, concatenate\n",
    "from keras.layers import CuDNNLSTM, Bidirectional, GlobalMaxPooling1D, GlobalAveragePooling1D\n",
    "from keras.preprocessing import text, sequence\n",
    "from keras.callbacks import LearningRateScheduler\n",
    "from keras.engine.topology import Layer\n",
    "from keras import initializers, regularizers, constraints, optimizers, layers\n",
    "from tqdm._tqdm_notebook import tqdm_notebook as tqdm\n",
    "import pickle\n",
    "tqdm.pandas()"
   ]
  },
  {
   "cell_type": "markdown",
   "metadata": {
    "_cell_guid": "79c7e3d0-c299-4dcb-8224-4455121ee9b0",
    "_uuid": "d629ff2d2480ee46fbb7e2d37f6b5fab8052498a"
   },
   "source": [
    "## Configurations"
   ]
  },
  {
   "cell_type": "code",
   "execution_count": null,
   "metadata": {
    "execution": {
     "iopub.execute_input": "2021-06-26T15:58:47.932159Z",
     "iopub.status.busy": "2021-06-26T15:58:47.931484Z",
     "iopub.status.idle": "2021-06-26T15:58:47.940144Z",
     "shell.execute_reply": "2021-06-26T15:58:47.938673Z",
     "shell.execute_reply.started": "2021-06-26T15:58:47.932032Z"
    }
   },
   "outputs": [],
   "source": [
    "EMBEDDING_PATHS = ['../input/pickled-word-embedding/crawl-300d-2M.pkl',\n",
    "                 '../input/pickled-word-embedding/glove.840B.300d.pkl']\n",
    "\n",
    "\n",
    "NUM_MODELS = 2 # The number of classifiers we want to train \n",
    "BATCH_SIZE = 512 # can be tuned\n",
    "LSTM_UNITS = 128 # can be tuned\n",
    "DENSE_HIDDEN_UNITS = 4*LSTM_UNITS # can betuned\n",
    "EPOCHS = 4 # The number of epoches we want to train for each classifier\n",
    "MAX_LEN = 220 # can ben tuned\n",
    "\n",
    "\n",
    "IDENTITY_COLUMNS = [\n",
    "    'transgender', 'female', 'homosexual_gay_or_lesbian', 'muslim', 'hindu',\n",
    "    'white', 'black', 'psychiatric_or_mental_illness', 'jewish'\n",
    "    ]  \n",
    "\n",
    "AUX_COLUMNS = ['target', 'severe_toxicity','obscene','identity_attack','insult','threat']\n",
    "TEXT_COLUMN = 'comment_text'\n",
    "TARGET_COLUMN = 'target'"
   ]
  },
  {
   "cell_type": "markdown",
   "metadata": {},
   "source": [
    "## Utils"
   ]
  },
  {
   "cell_type": "code",
   "execution_count": null,
   "metadata": {
    "execution": {
     "iopub.execute_input": "2021-06-26T15:58:47.943281Z",
     "iopub.status.busy": "2021-06-26T15:58:47.942494Z",
     "iopub.status.idle": "2021-06-26T15:58:47.969982Z",
     "shell.execute_reply": "2021-06-26T15:58:47.969022Z",
     "shell.execute_reply.started": "2021-06-26T15:58:47.942975Z"
    }
   },
   "outputs": [],
   "source": [
    "#----------------------------------- Preprocessing-------------------------------------#\n",
    "SYMBOLS_TO_ISOLATE = '.,?!-;*\"…:—()%#$&_/@＼・ω+=”“[]^–>\\\\°<~•≠™ˈʊɒ∞§{}·τα❤☺ɡ|¢→̶`❥━┣┫┗Ｏ►★©―ɪ✔®\\x96\\x92●£♥➤´¹☕≈÷♡◐║▬′ɔː€۩۞†μ✒➥═☆ˌ◄½ʻπδηλσερνʃ✬ＳＵＰＥＲＩＴ☻±♍µº¾✓◾؟．⬅℅»Вав❣⋅¿¬♫ＣＭβ█▓▒░⇒⭐›¡₂₃❧▰▔◞▀▂▃▄▅▆▇↙γ̄″☹➡«φ⅓„✋：¥̲̅́∙‛◇✏▷❓❗¶˚˙）сиʿ✨。ɑ\\x80◕！％¯−ﬂﬁ₁²ʌ¼⁴⁄₄⌠♭✘╪▶☭✭♪☔☠♂☃☎✈✌✰❆☙○‣⚓年∎ℒ▪▙☏⅛ｃａｓǀ℮¸ｗ‚∼‖ℳ❄←☼⋆ʒ⊂、⅔¨͡๏⚾⚽Φ×θ￦？（℃⏩☮⚠月✊❌⭕▸■⇌☐☑⚡☄ǫ╭∩╮，例＞ʕɐ̣Δ₀✞┈╱╲▏▕┃╰▊▋╯┳┊≥☒↑☝ɹ✅☛♩☞ＡＪＢ◔◡↓♀⬆̱ℏ\\x91⠀ˤ╚↺⇤∏✾◦♬³の｜／∵∴√Ω¤☜▲↳▫‿⬇✧ｏｖｍ－２０８＇‰≤∕ˆ⚜☁'\n",
    "SYMBOLS_TO_REMOVE = '\\n🍕\\r🐵\\xa0\\ue014\\t\\uf818\\uf04a\\xad😢🐶️\\uf0e0😜😎👊\\u200b\\u200e😁عدويهصقأناخلىبمغر😍💖💵Е👎😀😂\\u202a\\u202c🔥😄🏻💥ᴍʏʀᴇɴᴅᴏᴀᴋʜᴜʟᴛᴄᴘʙғᴊᴡɢ😋👏שלוםבי😱‼\\x81エンジ故障\\u2009🚌ᴵ͞🌟😊😳😧🙀😐😕\\u200f👍😮😃😘אעכח💩💯⛽🚄🏼ஜ😖ᴠ🚲‐😟😈💪🙏🎯🌹😇💔😡\\x7f👌ἐὶήιὲκἀίῃἴξ🙄Ｈ😠\\ufeff\\u2028😉😤⛺🙂\\u3000تحكسة👮💙فزط😏🍾🎉😞\\u2008🏾😅😭👻😥😔😓🏽🎆🍻🍽🎶🌺🤔😪\\x08‑🐰🐇🐱🙆😨🙃💕𝘊𝘦𝘳𝘢𝘵𝘰𝘤𝘺𝘴𝘪𝘧𝘮𝘣💗💚地獄谷улкнПоАН🐾🐕😆ה🔗🚽歌舞伎🙈😴🏿🤗🇺🇸мυтѕ⤵🏆🎃😩\\u200a🌠🐟💫💰💎эпрд\\x95🖐🙅⛲🍰🤐👆🙌\\u2002💛🙁👀🙊🙉\\u2004ˢᵒʳʸᴼᴷᴺʷᵗʰᵉᵘ\\x13🚬🤓\\ue602😵άοόςέὸתמדףנרךצט😒͝🆕👅👥👄🔄🔤👉👤👶👲🔛🎓\\uf0b7\\uf04c\\x9f\\x10成都😣⏺😌🤑🌏😯ех😲Ἰᾶὁ💞🚓🔔📚🏀👐\\u202d💤🍇\\ue613小土豆🏡❔⁉\\u202f👠》कर्मा🇹🇼🌸蔡英文🌞🎲レクサス😛外国人关系Сб💋💀🎄💜🤢َِьыгя不是\\x9c\\x9d🗑\\u2005💃📣👿༼つ༽😰ḷЗз▱ц￼🤣卖温哥华议会下降你失去所有的钱加拿大坏税骗子🐝ツ🎅\\x85🍺آإشء🎵🌎͟ἔ油别克🤡🤥😬🤧й\\u2003🚀🤴ʲшчИОРФДЯМюж😝🖑ὐύύ特殊作戦群щ💨圆明园קℐ🏈😺🌍⏏ệ🍔🐮🍁🍆🍑🌮🌯🤦\\u200d𝓒𝓲𝓿𝓵안영하세요ЖљКћ🍀😫🤤ῦ我出生在了可以说普通话汉语好极🎼🕺🍸🥂🗽🎇🎊🆘🤠👩🖒🚪天一家⚲\\u2006⚭⚆⬭⬯⏖新✀╌🇫🇷🇩🇪🇮🇬🇧😷🇨🇦ХШ🌐\\x1f杀鸡给猴看ʁ𝗪𝗵𝗲𝗻𝘆𝗼𝘂𝗿𝗮𝗹𝗶𝘇𝗯𝘁𝗰𝘀𝘅𝗽𝘄𝗱📺ϖ\\u2000үսᴦᎥһͺ\\u2007հ\\u2001ɩｙｅ൦ｌƽｈ𝐓𝐡𝐞𝐫𝐮𝐝𝐚𝐃𝐜𝐩𝐭𝐢𝐨𝐧Ƅᴨןᑯ໐ΤᏧ௦Іᴑ܁𝐬𝐰𝐲𝐛𝐦𝐯𝐑𝐙𝐣𝐇𝐂𝐘𝟎ԜТᗞ౦〔Ꭻ𝐳𝐔𝐱𝟔𝟓𝐅🐋ﬃ💘💓ё𝘥𝘯𝘶💐🌋🌄🌅𝙬𝙖𝙨𝙤𝙣𝙡𝙮𝙘𝙠𝙚𝙙𝙜𝙧𝙥𝙩𝙪𝙗𝙞𝙝𝙛👺🐷ℋ𝐀𝐥𝐪🚶𝙢Ἱ🤘ͦ💸ج패티Ｗ𝙇ᵻ👂👃ɜ🎫\\uf0a7БУі🚢🚂ગુજરાતીῆ🏃𝓬𝓻𝓴𝓮𝓽𝓼☘﴾̯﴿₽\\ue807𝑻𝒆𝒍𝒕𝒉𝒓𝒖𝒂𝒏𝒅𝒔𝒎𝒗𝒊👽😙\\u200cЛ‒🎾👹⎌🏒⛸公寓养宠物吗🏄🐀🚑🤷操美𝒑𝒚𝒐𝑴🤙🐒欢迎来到阿拉斯ספ𝙫🐈𝒌𝙊𝙭𝙆𝙋𝙍𝘼𝙅ﷻ🦄巨收赢得白鬼愤怒要买额ẽ🚗🐳𝟏𝐟𝟖𝟑𝟕𝒄𝟗𝐠𝙄𝙃👇锟斤拷𝗢𝟳𝟱𝟬⦁マルハニチロ株式社⛷한국어ㄸㅓ니͜ʖ𝘿𝙔₵𝒩ℯ𝒾𝓁𝒶𝓉𝓇𝓊𝓃𝓈𝓅ℴ𝒻𝒽𝓀𝓌𝒸𝓎𝙏ζ𝙟𝘃𝗺𝟮𝟭𝟯𝟲👋🦊多伦🐽🎻🎹⛓🏹🍷🦆为和中友谊祝贺与其想象对法如直接问用自己猜本传教士没积唯认识基督徒曾经让相信耶稣复活死怪他但当们聊些政治题时候战胜因圣把全堂结婚孩恐惧且栗谓这样还♾🎸🤕🤒⛑🎁批判检讨🏝🦁🙋😶쥐스탱트뤼도석유가격인상이경제황을렵게만들지않록잘관리해야합다캐나에서대마초와화약금의품런성분갈때는반드시허된사용🔫👁凸ὰ💲🗯𝙈Ἄ𝒇𝒈𝒘𝒃𝑬𝑶𝕾𝖙𝖗𝖆𝖎𝖌𝖍𝖕𝖊𝖔𝖑𝖉𝖓𝖐𝖜𝖞𝖚𝖇𝕿𝖘𝖄𝖛𝖒𝖋𝖂𝕴𝖟𝖈𝕸👑🚿💡知彼百\\uf005𝙀𝒛𝑲𝑳𝑾𝒋𝟒😦𝙒𝘾𝘽🏐𝘩𝘨ὼṑ𝑱𝑹𝑫𝑵𝑪🇰🇵👾ᓇᒧᔭᐃᐧᐦᑳᐨᓃᓂᑲᐸᑭᑎᓀᐣ🐄🎈🔨🐎🤞🐸💟🎰🌝🛳点击查版🍭𝑥𝑦𝑧ＮＧ👣\\uf020っ🏉ф💭🎥Ξ🐴👨🤳🦍\\x0b🍩𝑯𝒒😗𝟐🏂👳🍗🕉🐲چی𝑮𝗕𝗴🍒ꜥⲣⲏ🐑⏰鉄リ事件ї💊「」\\uf203\\uf09a\\uf222\\ue608\\uf202\\uf099\\uf469\\ue607\\uf410\\ue600燻製シ虚偽屁理屈Г𝑩𝑰𝒀𝑺🌤𝗳𝗜𝗙𝗦𝗧🍊ὺἈἡχῖΛ⤏🇳𝒙ψՁմեռայինրւդձ冬至ὀ𝒁🔹🤚🍎𝑷🐂💅𝘬𝘱𝘸𝘷𝘐𝘭𝘓𝘖𝘹𝘲𝘫کΒώ💢ΜΟΝΑΕ🇱♲𝝈↴💒⊘Ȼ🚴🖕🖤🥘📍👈➕🚫🎨🌑🐻𝐎𝐍𝐊𝑭🤖🎎😼🕷ｇｒｎｔｉｄｕｆｂｋ𝟰🇴🇭🇻🇲𝗞𝗭𝗘𝗤👼📉🍟🍦🌈🔭《🐊🐍\\uf10aლڡ🐦\\U0001f92f\\U0001f92a🐡💳ἱ🙇𝗸𝗟𝗠𝗷🥜さようなら🔼'\n",
    "ISOLATE_DICT = {ord(c):f' {c} ' for c in SYMBOLS_TO_ISOLATE}\n",
    "REMOVE_DICT = {ord(c):f'' for c in SYMBOLS_TO_REMOVE}\n",
    "CHARS_TO_REMOVE = '!\"#$%&()*+,-./:;<=>?@[\\\\]^_`{|}~\\t\\n“”’\\'∞θ÷α•à−β∅³π‘₹´°£€\\×™√²—'\n",
    "CONTRACTION_MAPPING = {\"ain't\": \"is not\", \"aren't\": \"are not\",\"can't\": \"cannot\", \"'cause\": \"because\", \"could've\": \"could have\", \"couldn't\": \"could not\", \"didn't\": \"did not\",  \"doesn't\": \"does not\", \"don't\": \"do not\", \"hadn't\": \"had not\", \"hasn't\": \"has not\", \"haven't\": \"have not\", \"he'd\": \"he would\",\"he'll\": \"he will\", \"he's\": \"he is\", \"how'd\": \"how did\", \"how'd'y\": \"how do you\", \"how'll\": \"how will\", \"how's\": \"how is\",  \"I'd\": \"I would\", \"I'd've\": \"I would have\", \"I'll\": \"I will\", \"I'll've\": \"I will have\",\"I'm\": \"I am\", \"I've\": \"I have\", \"i'd\": \"i would\", \"i'd've\": \"i would have\", \"i'll\": \"i will\",  \"i'll've\": \"i will have\",\"i'm\": \"i am\", \"i've\": \"i have\", \"isn't\": \"is not\", \"it'd\": \"it would\", \"it'd've\": \"it would have\", \"it'll\": \"it will\", \"it'll've\": \"it will have\",\"it's\": \"it is\", \"let's\": \"let us\", \"ma'am\": \"madam\", \"mayn't\": \"may not\", \"might've\": \"might have\",\"mightn't\": \"might not\",\"mightn't've\": \"might not have\", \"must've\": \"must have\", \"mustn't\": \"must not\", \"mustn't've\": \"must not have\", \"needn't\": \"need not\", \"needn't've\": \"need not have\",\"o'clock\": \"of the clock\", \"oughtn't\": \"ought not\", \"oughtn't've\": \"ought not have\", \"shan't\": \"shall not\", \"sha'n't\": \"shall not\", \"shan't've\": \"shall not have\", \"she'd\": \"she would\", \"she'd've\": \"she would have\", \"she'll\": \"she will\", \"she'll've\": \"she will have\", \"she's\": \"she is\", \"should've\": \"should have\", \"shouldn't\": \"should not\", \"shouldn't've\": \"should not have\", \"so've\": \"so have\",\"so's\": \"so as\", \"this's\": \"this is\",\"that'd\": \"that would\", \"that'd've\": \"that would have\", \"that's\": \"that is\", \"there'd\": \"there would\", \"there'd've\": \"there would have\", \"there's\": \"there is\", \"here's\": \"here is\",\"they'd\": \"they would\", \"they'd've\": \"they would have\", \"they'll\": \"they will\", \"they'll've\": \"they will have\", \"they're\": \"they are\", \"they've\": \"they have\", \"to've\": \"to have\", \"wasn't\": \"was not\", \"we'd\": \"we would\", \"we'd've\": \"we would have\", \"we'll\": \"we will\", \"we'll've\": \"we will have\", \"we're\": \"we are\", \"we've\": \"we have\", \"weren't\": \"were not\", \"what'll\": \"what will\", \"what'll've\": \"what will have\", \"what're\": \"what are\",  \"what's\": \"what is\", \"what've\": \"what have\", \"when's\": \"when is\", \"when've\": \"when have\", \"where'd\": \"where did\", \"where's\": \"where is\", \"where've\": \"where have\", \"who'll\": \"who will\", \"who'll've\": \"who will have\", \"who's\": \"who is\", \"who've\": \"who have\", \"why's\": \"why is\", \"why've\": \"why have\", \"will've\": \"will have\", \"won't\": \"will not\", \"won't've\": \"will not have\", \"would've\": \"would have\", \"wouldn't\": \"would not\", \"wouldn't've\": \"would not have\", \"y'all\": \"you all\", \"y'all'd\": \"you all would\",\"y'all'd've\": \"you all would have\",\"y'all're\": \"you all are\",\"y'all've\": \"you all have\",\"you'd\": \"you would\", \"you'd've\": \"you would have\", \"you'll\": \"you will\", \"you'll've\": \"you will have\", \"you're\": \"you are\", \"you've\": \"you have\" }\n",
    "\n",
    "def handle_punctuation(text):\n",
    "    text = text.translate(REMOVE_DICT)\n",
    "    text = text.translate(ISOLATE_DICT)\n",
    "    return text\n",
    "\n",
    "def clean_contractions(text, mapping=CONTRACTION_MAPPING):\n",
    "    '''\n",
    "    Expand contractions\n",
    "    '''\n",
    "    specials = [\"’\", \"‘\", \"´\", \"`\"]\n",
    "    for s in specials:\n",
    "        text = text.replace(s, \"'\")\n",
    "    text = ' '.join([mapping[t] if t in mapping else t for t in text.split(\" \")])\n",
    "    return text\n",
    "\n",
    "def preprocess(x):\n",
    "    x = handle_punctuation(x)\n",
    "#     x = clean_contractions(x)\n",
    "    return x\n",
    "\n",
    "#----------------------------------- Embedding -------------------------------------#\n",
    "def get_coefs(word, *arr):\n",
    "    \"\"\"\n",
    "    Get word, word_embedding from a pretrained embedding file\n",
    "    \"\"\"\n",
    "    return word, np.asarray(arr,dtype='float32')\n",
    "\n",
    "def load_embeddings(path):\n",
    "    if path.split('.')[-1] in ['txt','vec']: # for original pretrained embedding files (extension .text, .vec)\n",
    "        with open(path,'rb') as f:\n",
    "            return dict(get_coefs(*line.strip().split(' ')) for line in f)    \n",
    "    if path.split('.')[-1] =='pkl': # for pickled pretrained embedding files (extention pkl). Loading pickeled embeddings is faster than texts\n",
    "        with open(path,'rb') as f:\n",
    "            return pickle.load(f)\n",
    "    \n",
    "\n",
    "\n",
    "def build_matrix(word_index, path):\n",
    "    \"\"\"\n",
    "    Here we take each word we've tokenized in our text corpus\n",
    "    for each word we look up in the pre-trained embedding.\n",
    "    Each row in this matrix is a corpus word's embedding.\n",
    "    \"\"\"\n",
    "    embedding_index = load_embeddings(path)\n",
    "    embedding_matrix = np.zeros((len(word_index)+1, 300))\n",
    "    for word, i in word_index.items():\n",
    "        try:\n",
    "            embedding_matrix[i] = embedding_index[word]\n",
    "        except KeyError:\n",
    "            pass\n",
    "    return embedding_matrix"
   ]
  },
  {
   "cell_type": "markdown",
   "metadata": {},
   "source": [
    "## Define LSTM model"
   ]
  },
  {
   "cell_type": "code",
   "execution_count": null,
   "metadata": {
    "execution": {
     "iopub.execute_input": "2021-06-26T15:58:47.97335Z",
     "iopub.status.busy": "2021-06-26T15:58:47.972038Z",
     "iopub.status.idle": "2021-06-26T15:58:47.997207Z",
     "shell.execute_reply": "2021-06-26T15:58:47.995747Z",
     "shell.execute_reply.started": "2021-06-26T15:58:47.972431Z"
    }
   },
   "outputs": [],
   "source": [
    "class Attention(Layer):\n",
    "    def __init__(self, step_dim,\n",
    "                 W_regularizer=None, b_regularizer=None,\n",
    "                 W_constraint=None, b_constraint=None,\n",
    "                 bias=True, **kwargs):\n",
    "        self.supports_masking = True\n",
    "        self.init = initializers.get('glorot_uniform')\n",
    "\n",
    "        self.W_regularizer = regularizers.get(W_regularizer)\n",
    "        self.b_regularizer = regularizers.get(b_regularizer)\n",
    "\n",
    "        self.W_constraint = constraints.get(W_constraint)\n",
    "        self.b_constraint = constraints.get(b_constraint)\n",
    "\n",
    "        self.bias = bias\n",
    "        self.step_dim = step_dim\n",
    "        self.features_dim = 0\n",
    "        super(Attention, self).__init__(**kwargs)\n",
    "\n",
    "    def build(self, input_shape):\n",
    "        assert len(input_shape) == 3\n",
    "\n",
    "        self.W = self.add_weight((input_shape[-1],),\n",
    "                                 initializer=self.init,\n",
    "                                 name='{}_W'.format(self.name),\n",
    "                                 regularizer=self.W_regularizer,\n",
    "                                 constraint=self.W_constraint)\n",
    "        self.features_dim = input_shape[-1]\n",
    "\n",
    "        if self.bias:\n",
    "            self.b = self.add_weight((input_shape[1],),\n",
    "                                     initializer='zero',\n",
    "                                     name='{}_b'.format(self.name),\n",
    "                                     regularizer=self.b_regularizer,\n",
    "                                     constraint=self.b_constraint)\n",
    "        else:\n",
    "            self.b = None\n",
    "\n",
    "        self.built = True\n",
    "\n",
    "    def compute_mask(self, input, input_mask=None):\n",
    "        return None\n",
    "\n",
    "    def call(self, x, mask=None):\n",
    "        features_dim = self.features_dim\n",
    "        step_dim = self.step_dim\n",
    "\n",
    "        eij = K.reshape(K.dot(K.reshape(x, (-1, features_dim)),\n",
    "                        K.reshape(self.W, (features_dim, 1))), (-1, step_dim))\n",
    "\n",
    "        if self.bias:\n",
    "            eij += self.b\n",
    "\n",
    "        eij = K.tanh(eij)\n",
    "\n",
    "        a = K.exp(eij)\n",
    "\n",
    "        if mask is not None:\n",
    "            a *= K.cast(mask, K.floatx())\n",
    "\n",
    "        a /= K.cast(K.sum(a, axis=1, keepdims=True) + K.epsilon(), K.floatx())\n",
    "\n",
    "        a = K.expand_dims(a)\n",
    "        weighted_input = x * a\n",
    "        return K.sum(weighted_input, axis=1)\n",
    "\n",
    "    def compute_output_shape(self, input_shape):\n",
    "        return input_shape[0],  self.features_dim\n",
    "        \n",
    "    \n",
    "def build_model(embedding_matrix, num_aux_targets):#, loss_weight):\n",
    "    \"\"\"\n",
    "    embedding layer\n",
    "    droput layer\n",
    "    2 * bidirectional LSTM layers\n",
    "    2 * pooling layers\n",
    "    2 dense layers\n",
    "    1 softmax layer\n",
    "    \"\"\"\n",
    "    words = Input(shape=(MAX_LEN,)) \n",
    "    #Embedding layer takes variable size input\n",
    "    x = Embedding(*embedding_matrix.shape, weights = [embedding_matrix], trainable=False)(words)\n",
    "    x = SpatialDropout1D(0.2)(x)\n",
    "    x = Bidirectional(CuDNNLSTM(LSTM_UNITS, return_sequences=True))(x)\n",
    "    x = Bidirectional(CuDNNLSTM(LSTM_UNITS, return_sequences=True))(x)\n",
    "    \n",
    "    #att = Attention(MAX_LEN)(x)\n",
    "    hidden = concatenate([ \n",
    "        GlobalMaxPooling1D()(x),\n",
    "        GlobalAveragePooling1D()(x)\n",
    "        ])\n",
    "    hidden = add([hidden, Dense(DENSE_HIDDEN_UNITS, activation='relu')(hidden)])\n",
    "    hidden = add([hidden, Dense(DENSE_HIDDEN_UNITS, activation='relu')(hidden)])\n",
    "    result = Dense(1, activation='sigmoid')(hidden)\n",
    "    aux_result =Dense(num_aux_targets, activation='sigmoid')(hidden)\n",
    "\n",
    "    model = Model(inputs =words, outputs =[result, aux_result])\n",
    "    model.compile(loss='binary_crossentropy', optimizer='adam')\n",
    "    \n",
    "    return model"
   ]
  },
  {
   "cell_type": "markdown",
   "metadata": {},
   "source": [
    "# Data preprocessing"
   ]
  },
  {
   "cell_type": "code",
   "execution_count": null,
   "metadata": {
    "execution": {
     "iopub.execute_input": "2021-06-26T15:58:48.000102Z",
     "iopub.status.busy": "2021-06-26T15:58:47.999078Z",
     "iopub.status.idle": "2021-06-26T16:00:21.726111Z",
     "shell.execute_reply": "2021-06-26T16:00:21.724686Z",
     "shell.execute_reply.started": "2021-06-26T15:58:47.99992Z"
    }
   },
   "outputs": [],
   "source": [
    "# Preprocess comment texts\n",
    "train_df['comment_text'] = train_df['comment_text'].progress_apply(lambda x:preprocess(x))\n",
    "test_df['comment_text'] = test_df['comment_text'].progress_apply(lambda x:preprocess(x))\n",
    "gc.collect()"
   ]
  },
  {
   "cell_type": "code",
   "execution_count": null,
   "metadata": {
    "execution": {
     "iopub.execute_input": "2021-06-26T16:00:21.728534Z",
     "iopub.status.busy": "2021-06-26T16:00:21.727955Z",
     "iopub.status.idle": "2021-06-26T16:00:24.952055Z",
     "shell.execute_reply": "2021-06-26T16:00:24.951038Z",
     "shell.execute_reply.started": "2021-06-26T16:00:21.728263Z"
    }
   },
   "outputs": [],
   "source": [
    "x_train = train_df[TEXT_COLUMN].astype(str)\n",
    "y_train = train_df[TARGET_COLUMN].values\n",
    "y_aux_train = train_df[AUX_COLUMNS].values\n",
    "x_test = test_df[TEXT_COLUMN].astype(str)\n",
    "\n",
    "# Convert target probability to 1 or 0 so they can be used for classification\n",
    "for column in IDENTITY_COLUMNS + [TARGET_COLUMN]:\n",
    "    train_df[column] = np.where(train_df[column] >=0.5, True, False)"
   ]
  },
  {
   "cell_type": "code",
   "execution_count": null,
   "metadata": {
    "execution": {
     "iopub.execute_input": "2021-06-26T16:00:24.953916Z",
     "iopub.status.busy": "2021-06-26T16:00:24.953578Z",
     "iopub.status.idle": "2021-06-26T16:00:24.96187Z",
     "shell.execute_reply": "2021-06-26T16:00:24.960487Z",
     "shell.execute_reply.started": "2021-06-26T16:00:24.953854Z"
    }
   },
   "outputs": [],
   "source": [
    "y_train"
   ]
  },
  {
   "cell_type": "code",
   "execution_count": null,
   "metadata": {
    "execution": {
     "iopub.execute_input": "2021-06-26T16:00:24.964899Z",
     "iopub.status.busy": "2021-06-26T16:00:24.964111Z",
     "iopub.status.idle": "2021-06-26T16:05:57.025583Z",
     "shell.execute_reply": "2021-06-26T16:05:57.024575Z",
     "shell.execute_reply.started": "2021-06-26T16:00:24.964515Z"
    }
   },
   "outputs": [],
   "source": [
    "# Return a Keras tokenizer class\n",
    "tokenizer = text.Tokenizer(filters = CHARS_TO_REMOVE)\n",
    "tokenizer.fit_on_texts(list(x_train)+ list(x_test))\n",
    "# Turn text to sequences of tokens\n",
    "x_train = tokenizer.texts_to_sequences(x_train)\n",
    "x_test = tokenizer.texts_to_sequences(x_test)\n",
    "#Pad sequences to the same length\n",
    "x_train = sequence.pad_sequences(x_train,maxlen=MAX_LEN)\n",
    "x_test= sequence.pad_sequences(x_test, maxlen=MAX_LEN)"
   ]
  },
  {
   "cell_type": "code",
   "execution_count": null,
   "metadata": {
    "execution": {
     "iopub.execute_input": "2021-06-26T16:05:57.027557Z",
     "iopub.status.busy": "2021-06-26T16:05:57.027188Z",
     "iopub.status.idle": "2021-06-26T16:05:58.082903Z",
     "shell.execute_reply": "2021-06-26T16:05:58.081973Z",
     "shell.execute_reply.started": "2021-06-26T16:05:57.027477Z"
    }
   },
   "outputs": [],
   "source": [
    "# Initialize weights\n",
    "sample_weights = np.ones(len(x_train), dtype=np.float32)\n",
    "# Add all the values of the identities along rows\n",
    "sample_weights += train_df[IDENTITY_COLUMNS].sum(axis=1)\n",
    "#Add all values of targets*~identity\n",
    "sample_weights += train_df[TARGET_COLUMN]*(~train_df[IDENTITY_COLUMNS]).sum(axis=1)\n",
    "#Add all values ~targets*identity\n",
    "sample_weights += (~train_df[TARGET_COLUMN])*train_df[IDENTITY_COLUMNS].sum(axis=1)\n",
    "#Normalize them\n",
    "sample_weights/=sample_weights.mean()"
   ]
  },
  {
   "cell_type": "markdown",
   "metadata": {},
   "source": [
    "## Create embedding matrix"
   ]
  },
  {
   "cell_type": "code",
   "execution_count": null,
   "metadata": {
    "execution": {
     "iopub.execute_input": "2021-06-26T16:05:58.084921Z",
     "iopub.status.busy": "2021-06-26T16:05:58.084549Z",
     "iopub.status.idle": "2021-06-26T16:07:06.586926Z",
     "shell.execute_reply": "2021-06-26T16:07:06.585712Z",
     "shell.execute_reply.started": "2021-06-26T16:05:58.084861Z"
    }
   },
   "outputs": [],
   "source": [
    "embedding_matrix = np.concatenate([build_matrix(tokenizer.word_index,f) for f in EMBEDDING_PATHS], axis =-1)\n",
    "print(\"Embedding matrix shape:\", embedding_matrix.shape)\n",
    "del train_df, tokenizer\n",
    "gc.collect()"
   ]
  },
  {
   "cell_type": "markdown",
   "metadata": {},
   "source": [
    "# Model training\n",
    "\n",
    "* 2 models will be trained (NUM_MODELS=2)\n",
    "* Make predictions at the end of each epoch\n",
    "* Weighted averaging epoch predictions\n",
    "* Weights = 2 ** epoch"
   ]
  },
  {
   "cell_type": "code",
   "execution_count": null,
   "metadata": {
    "execution": {
     "iopub.execute_input": "2021-06-26T16:08:34.194499Z",
     "iopub.status.busy": "2021-06-26T16:08:34.194128Z",
     "iopub.status.idle": "2021-06-26T18:47:09.614513Z",
     "shell.execute_reply": "2021-06-26T18:47:09.612726Z",
     "shell.execute_reply.started": "2021-06-26T16:08:34.194427Z"
    }
   },
   "outputs": [],
   "source": [
    "checkpoint_predictions = []\n",
    "weights = []\n",
    "NUM_MODELS = 1\n",
    "for model_idx in range(NUM_MODELS):\n",
    "    #Passes embedding matrix and aux outputs shape\n",
    "    model = build_model(embedding_matrix, y_aux_train.shape[-1]) #1/sample_weights.mean())\n",
    "    for global_epoch in range(EPOCHS):\n",
    "        model.fit(\n",
    "            x_train,\n",
    "            [y_train, y_aux_train],\n",
    "            batch_size=BATCH_SIZE,\n",
    "            epochs=2,\n",
    "            verbose=1,\n",
    "            sample_weight=[sample_weights.values, np.ones_like(sample_weights)],\n",
    "            callbacks = [\n",
    "                LearningRateScheduler(lambda _: 1e-3*(0.55**global_epoch)) # Decayed learning rate\n",
    "                ]\n",
    "        )\n",
    "#         model.save_weights(\"model_%d_%d.h5\" % (model_idx, global_epoch)) # Save model weights\n",
    "        checkpoint_predictions.append(model.predict(x_test, batch_size=2048)[0].flatten())\n",
    "        weights.append(2 ** global_epoch)\n",
    "    del model # If a model didn't get deleted Keras will continue training it eventhough build_model() was used to initialize a model\n",
    "    gc.collect() # It's a good practice to use gc.collect() once the training is done to free up RAM"
   ]
  },
  {
   "cell_type": "code",
   "execution_count": null,
   "metadata": {
    "execution": {
     "iopub.execute_input": "2021-06-26T18:49:21.017715Z",
     "iopub.status.busy": "2021-06-26T18:49:21.017347Z",
     "iopub.status.idle": "2021-06-26T18:49:21.027199Z",
     "shell.execute_reply": "2021-06-26T18:49:21.022704Z",
     "shell.execute_reply.started": "2021-06-26T18:49:21.01767Z"
    }
   },
   "outputs": [],
   "source": [
    "print (weights)"
   ]
  },
  {
   "cell_type": "code",
   "execution_count": null,
   "metadata": {
    "execution": {
     "iopub.execute_input": "2021-06-26T18:49:21.591764Z",
     "iopub.status.busy": "2021-06-26T18:49:21.590957Z",
     "iopub.status.idle": "2021-06-26T18:49:22.309177Z",
     "shell.execute_reply": "2021-06-26T18:49:22.308274Z",
     "shell.execute_reply.started": "2021-06-26T18:49:21.591341Z"
    }
   },
   "outputs": [],
   "source": [
    "predictions = np.average(checkpoint_predictions, weights=weights, axis=0)\n",
    "lstm_submission = pd.DataFrame.from_dict({\n",
    "    'id': test_df.id,\n",
    "    'prediction': predictions\n",
    "})\n",
    "lstm_submission.to_csv('lstm_submission.csv', index=False)\n",
    "bert_df.to_csv('submission.csv', index=False)\n"
   ]
  },
  {
   "cell_type": "code",
   "execution_count": null,
   "metadata": {
    "execution": {
     "iopub.execute_input": "2021-06-26T18:49:24.429733Z",
     "iopub.status.busy": "2021-06-26T18:49:24.429374Z",
     "iopub.status.idle": "2021-06-26T18:49:24.483648Z",
     "shell.execute_reply": "2021-06-26T18:49:24.481691Z",
     "shell.execute_reply.started": "2021-06-26T18:49:24.429673Z"
    }
   },
   "outputs": [],
   "source": [
    "# submission = pd.DataFrame.from_dict({\n",
    "# 'id': test_df['id'],\n",
    "# 'prediction': lstm_submission['prediction'].rank(pct=True)*0.4 + bert_submission['prediction'].rank(pct=True)*0.6})\n",
    "# submission.to_csv('submission.csv', index=False)\n"
   ]
  },
  {
   "cell_type": "code",
   "execution_count": null,
   "metadata": {},
   "outputs": [],
   "source": []
  }
 ],
 "metadata": {
  "kernelspec": {
   "display_name": "Python 3",
   "language": "python",
   "name": "python3"
  },
  "language_info": {
   "codemirror_mode": {
    "name": "ipython",
    "version": 3
   },
   "file_extension": ".py",
   "mimetype": "text/x-python",
   "name": "python",
   "nbconvert_exporter": "python",
   "pygments_lexer": "ipython3",
   "version": "3.7.0"
  }
 },
 "nbformat": 4,
 "nbformat_minor": 4
}
